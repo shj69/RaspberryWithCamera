{
 "cells": [
  {
   "cell_type": "markdown",
   "metadata": {},
   "source": [
    "# Raspberry Zero and Camera"
   ]
  },
  {
   "cell_type": "markdown",
   "metadata": {},
   "source": [
    "GeoPython 2019, Muttenz, Prof. Hans-Jörg Stark\n",
    "A quick intro to a low-cost and yet powerful solution"
   ]
  },
  {
   "cell_type": "markdown",
   "metadata": {},
   "source": [
    "This presentation will show:\n",
    "    - what are the hardware components needed\n",
    "    - what are the necessary software components needed\n",
    "    - how to set up the raspberry zero (or raspberry pi) with the camera modul\n",
    "    - how to use it\n",
    "    - how to combine it with a motion sensor\n",
    "    - how to send a message as mail along with a picture when a motion is detected"
   ]
  },
  {
   "cell_type": "markdown",
   "metadata": {},
   "source": [
    "1. Hardware components:\n",
    "    - raspberry zero or raspberry pi\n",
    "    - microSD card\n",
    "    - camera module (size matters! - depending on raspberry model!)\n",
    "    - power supply\n",
    "    - wifi connection\n",
    "2. Software components:\n",
    "    - Noobs to install Raspian OS\n",
    "    \n"
   ]
  },
  {
   "cell_type": "markdown",
   "metadata": {},
   "source": [
    "\n",
    "<img src=\"img/raspberry_equipment.jpg\" width=\"70%\" height=\"70%\">\n"
   ]
  },
  {
   "cell_type": "markdown",
   "metadata": {},
   "source": [
    "Setting up the Raspberry Zero:\n",
    "    https://learn.sparkfun.com/tutorials/getting-started-with-the-raspberry-pi-zero-wireless/all\n",
    "    <img src=\"img/rpi-zero.jpg\" width=\"50%\" height=\"50%\">\n",
    "\n",
    "Equipment for first installation:\n",
    " - Monitor\n",
    " - Keyboard\n",
    " - Mouse (optional but suggested)\n",
    " - USB hub (for more than one USB device)\n",
    " \n",
    " Connecting the monitor: <br>\n",
    "Unlike the previous models of the Raspberry Pi which use a standard HDMI connector, the Zero uses a mini HDMI connector to save space. To connect the Zero to a monitor or television, you will need a __mini HDMI to HDMI adapter__ or cable.\n",
    "<br><br>\n",
    "__WiFi and Bluetooth__ <br>\n",
    "As with the Raspberry PI 3, the Zero W offers both 802.11n wireless LAN and Bluetooth 4.0 connectivity. This frees up many of the connections that would have been made over USB, such as a WiFi dongle and a USB keyboard and mouse if substituting a Bluetooth keyboard/mouse.\n"
   ]
  },
  {
   "cell_type": "markdown",
   "metadata": {},
   "source": [
    "## Installing OS\n",
    "\n",
    "The Raspberry Pi foundation has created __NOOBS__ (New Out Of the Box Software) which is easy to use and get you started. Most generic kits such as the Pi3 Starter Kit will come with a NOOBS uSD card. Unfortunately as of the release of the Pi Zero Basic Kit the NOOBS image will need to be updated to work on the Pi Zero boards. If you don't have a current NOOBS image or just want to start again from scratch installing NOOBS is easy, you don't need any special software to install it on a card. Just download the image, unzip, drag and drop the files to your card, and you are good to go. Once you have NOOBS on your card, insert it in your board, apply power, and you should see action on your screen. Follow the prompts and install Raspbian (you may also want to select a differernt region for your keyboard and language). You can also go into the Wifi screen and setup Wifi. If you do you will get a lot more options for images to install.\n",
    "<br><br>\n",
    "__Installing NOOBS__ <br>\n",
    "https://www.raspberrypi.org/help/noobs-setup/2/<br>\n",
    "\n",
    "<br>\n",
    "<img src=\"img/noobs.png\" width=\"50%\" height=\"50%\">\n",
    "<br>\n",
    "Once you are ready installing the OS, the desktop will look like: <br>\n",
    "<img src=\"img/raspian.jpg\" width=\"50%\" height=\"50%\">"
   ]
  },
  {
   "cell_type": "markdown",
   "metadata": {},
   "source": [
    "### Activating the camera\n",
    "Open the Raspberry Pi Configuration Tool from the main menu:\n",
    "\n"
   ]
  },
  {
   "cell_type": "markdown",
   "metadata": {},
   "source": [
    "<br>\n",
    "<img src=\"img/raspi-config-menu.png\" width=\"50%\" height=\"50%\">\n",
    "\n",
    "Ensure the camera software is enabled:\n",
    "<br>\n",
    "<img src=\"img/raspi-config.png\" width=\"50%\" height=\"50%\">\n",
    "\n"
   ]
  },
  {
   "cell_type": "markdown",
   "metadata": {},
   "source": [
    "Having come this far open the terminal and type in: <br>\n"
   ]
  },
  {
   "cell_type": "raw",
   "metadata": {},
   "source": [
    "sudo apt-get update && sudo apt-get upgrade"
   ]
  },
  {
   "cell_type": "markdown",
   "metadata": {},
   "source": [
    "It might be necessary or recommended to reboot the raspberry after that."
   ]
  },
  {
   "cell_type": "markdown",
   "metadata": {},
   "source": [
    "## Connecting the camera\n",
    "Connect the camera at the camera slot (plug in)."
   ]
  },
  {
   "cell_type": "markdown",
   "metadata": {},
   "source": [
    "## Taking pictures\n",
    "Open a terminal window and type in:"
   ]
  },
  {
   "cell_type": "code",
   "execution_count": null,
   "metadata": {},
   "outputs": [],
   "source": []
  },
  {
   "cell_type": "code",
   "execution_count": null,
   "metadata": {},
   "outputs": [],
   "source": []
  },
  {
   "cell_type": "raw",
   "metadata": {},
   "source": [
    "raspistill -o firstpic.jpg"
   ]
  },
  {
   "cell_type": "markdown",
   "metadata": {},
   "source": [
    "<br>\n",
    "<img src=\"img/raspistillcmd.png\" width=\"50%\" height=\"50%\">\n"
   ]
  },
  {
   "cell_type": "markdown",
   "metadata": {},
   "source": [
    "<br>\n",
    "<img src=\"img/firstpic.jpg\" width=\"50%\" height=\"50%\">\n"
   ]
  },
  {
   "cell_type": "markdown",
   "metadata": {},
   "source": [
    "Another examples with some options:\n",
    "1. define size in height and width:"
   ]
  },
  {
   "cell_type": "raw",
   "metadata": {},
   "source": [
    "raspistill  -w 250 -h 250 -o secondpic.jpg"
   ]
  },
  {
   "cell_type": "markdown",
   "metadata": {},
   "source": [
    "<br>\n",
    "<img src=\"img/secondpic.jpg\" width=\"50%\" height=\"50%\">\n"
   ]
  },
  {
   "cell_type": "markdown",
   "metadata": {},
   "source": [
    "2. reduce quality:"
   ]
  },
  {
   "cell_type": "raw",
   "metadata": {},
   "source": [
    "raspistill  -q 50 -o thirdpic.jpg"
   ]
  },
  {
   "cell_type": "markdown",
   "metadata": {},
   "source": [
    "<br>\n",
    "<img src=\"img/thirdpic.jpg\" width=\"50%\" height=\"50%\">\n"
   ]
  },
  {
   "cell_type": "markdown",
   "metadata": {},
   "source": [
    "Further information on the raspistill command can be found at: <br>\n",
    "https://www.raspberrypi.org/documentation/usage/camera/raspicam/raspistill.md"
   ]
  },
  {
   "cell_type": "markdown",
   "metadata": {},
   "source": [
    "## Recording video sequences\n",
    "Open a terminal window and type in to record a 5sec video:"
   ]
  },
  {
   "cell_type": "raw",
   "metadata": {},
   "source": [
    "raspivid -o vid.h264"
   ]
  },
  {
   "cell_type": "markdown",
   "metadata": {},
   "source": [
    "if you want a longer sequence use -t option"
   ]
  },
  {
   "cell_type": "raw",
   "metadata": {},
   "source": [
    "raspivid -o vid2.h264 -t 10000"
   ]
  },
  {
   "cell_type": "markdown",
   "metadata": {},
   "source": [
    "To convert the raw stream in a more usable video format you need to install the gpac Module:"
   ]
  },
  {
   "cell_type": "raw",
   "metadata": {},
   "source": [
    "sudo apt-get install -y gpac"
   ]
  },
  {
   "cell_type": "markdown",
   "metadata": {},
   "source": [
    "Then convert the raw stream:"
   ]
  },
  {
   "cell_type": "raw",
   "metadata": {},
   "source": [
    "MP4Box -fps 30 -add myvid.h264 myvid2.mp4"
   ]
  },
  {
   "cell_type": "markdown",
   "metadata": {},
   "source": [
    "[![VIDEO]()](img/myvid2.mp4)\n"
   ]
  },
  {
   "cell_type": "markdown",
   "metadata": {},
   "source": [
    "## Camera with Python code"
   ]
  },
  {
   "cell_type": "markdown",
   "metadata": {},
   "source": [
    "Install PiCamera Module in a Terminal Window:"
   ]
  },
  {
   "cell_type": "raw",
   "metadata": {},
   "source": [
    "$ sudo apt-get install python-picamera python3-picamera"
   ]
  },
  {
   "cell_type": "markdown",
   "metadata": {},
   "source": [
    "Check the online Documentation of PiCamera at: <br>\n",
    "https://picamera.readthedocs.io/en/release-1.12/index.html\n",
    "\n",
    "Run the following code (either in a Python file or via the Python Console) for __taking a picture__:"
   ]
  },
  {
   "cell_type": "code",
   "execution_count": null,
   "metadata": {},
   "outputs": [],
   "source": [
    "from time import sleep\n",
    "from picamera import PiCamera\n",
    "\n",
    "camera = PiCamera()\n",
    "camera.resolution = (1024, 768)\n",
    "camera.start_preview()\n",
    "\n",
    "# Camera warm-up time\n",
    "sleep(2)\n",
    "camera.capture('myfirstpythonpic.jpg')"
   ]
  },
  {
   "cell_type": "markdown",
   "metadata": {},
   "source": [
    "<br>\n",
    "<img src=\"img/myfirstpythonpic.jpg\" width=\"50%\" height=\"50%\">\n"
   ]
  },
  {
   "cell_type": "markdown",
   "metadata": {},
   "source": [
    "## Surveillance Application\n",
    "Use the motion sensor to fire off taking a picture and sending it to a mail-address when a motion is detected."
   ]
  },
  {
   "cell_type": "markdown",
   "metadata": {},
   "source": [
    "Code for sending a mail message:"
   ]
  },
  {
   "cell_type": "code",
   "execution_count": null,
   "metadata": {},
   "outputs": [],
   "source": [
    "def sendmail(picflname,mailaddress):\n",
    "    fromaddr = \"mailaddress.4sendoff@domain.com\"\n",
    "    pwdmail = \"mypassword\"\n",
    "    toaddr = mailaddress\n",
    "\n",
    "    filename = picflname\n",
    "    bodytext = \"Picture attached to this mail.\"\n",
    "    subjtext = \"Movement detected...\"\n",
    "\n",
    "    myhostname = socket.gethostbyname(socket.gethostname())\n",
    "    #print([(s.connect(('8.8.8.8', 53)), s.getsockname()[0], s.close()) for s in [socket.socket(socket.AF_INET, socket.SOCK_DGRAM)]][0][1])\n",
    "    myip = [(s.connect(('8.8.8.8', 53)), s.getsockname()[0], s.close()) for s in [socket.socket(socket.AF_INET, socket.SOCK_DGRAM)]][0][1]\n",
    "    print(\"preparing to send picture...\")\n",
    "    # instance of MIMEMultipart \n",
    "    msg = MIMEMultipart() \n",
    "    # storing the senders email address \n",
    "    msg['From'] = fromaddr \n",
    "    # storing the receivers email address \n",
    "    msg['To'] = toaddr \n",
    "    # storing the subject \n",
    "    msg['Subject'] = subjtext\n",
    "    # string to store the body of the mail \n",
    "    body = bodytext\n",
    "    # attach the body with the msg instance \n",
    "    msg.attach(MIMEText(body, 'plain')) \n",
    "    # open the file to be sent \n",
    "    attachment = open(filename, \"rb\") \n",
    "    # instance of MIMEBase and named as p \n",
    "    p = MIMEBase('application', 'octet-stream') \n",
    "    # To change the payload into encoded form \n",
    "    p.set_payload((attachment).read()) \n",
    "    # encode into base64 \n",
    "    encoders.encode_base64(p) \n",
    "    p.add_header('Content-Disposition', \"attachment; filename= %s\" % filename) \n",
    "    # attach the instance 'p' to instance 'msg' \n",
    "    msg.attach(p) \n",
    "    # creates SMTP session \n",
    "    s = smtplib.SMTP('smtp.gmail.com', 587) \n",
    "    # start TLS for security \n",
    "    s.starttls() \n",
    "    # Authentication \n",
    "    s.login(fromaddr, pwdmail) \n",
    "    # Converts the Multipart msg into a string \n",
    "    text = msg.as_string()\n",
    "    text = text + \"%s %s\" %(myhostname, myip)\n",
    "    # sending the mail \n",
    "    s.sendmail(fromaddr, toaddr, text) \n",
    "    print(\"sending message to %s ...\" %mailaddress)\n",
    "    # terminating the session \n",
    "    s.quit() \n"
   ]
  },
  {
   "cell_type": "markdown",
   "metadata": {},
   "source": [
    "Code to check for motion:"
   ]
  },
  {
   "cell_type": "code",
   "execution_count": null,
   "metadata": {},
   "outputs": [],
   "source": [
    "GPIO.setmode(GPIO.BOARD)\n",
    "\n",
    "# Define GPIO; sensor plugged in on PIN 7\n",
    "GPIO_PIR = 7\n",
    "\n",
    "print (\"Testing motion sensor (CTRL-C to terminate)\")\n",
    "print (\"=========================================\")\n",
    "\n",
    "#  GPIO as \"Input\" \n",
    "GPIO.setup(GPIO_PIR,GPIO.IN)\n",
    "\n",
    "Current_State  = 0\n",
    "Previous_State = 0\n",
    "\n",
    "try:\n",
    "\n",
    " print (\"%s: initialise sensor  ...\" % datetime.datetime.now() )\n",
    "\n",
    " # wait for sensor\n",
    " while GPIO.input(GPIO_PIR)==1:\n",
    "   Current_State  = 0\n",
    "\n",
    " print (\"%s: Ready! Waiting for movement...\"  % datetime.datetime.now())\n",
    "\n",
    " # Loop until interruption through CTRL+C\n",
    " while True :\n",
    "\n",
    "   #Read Sensor Status \n",
    "   Current_State = GPIO.input(GPIO_PIR)\n",
    "\n",
    "   if Current_State==1 and Previous_State==0:\n",
    "\n",
    "     print (\" %s: Movement detected!\" % datetime.datetime.now() )\n",
    "     \n",
    "   elif Current_State==0 and Previous_State==1:\n",
    "\n",
    "     print (\" %s: Ready! Waiting for movement...\"  % datetime.datetime.now() )\n",
    "     Previous_State=0\n",
    "\n",
    "   time.sleep(0.01)\n",
    "\n",
    "except KeyboardInterrupt:\n",
    " print (\" Exit\")\n",
    " GPIO.cleanup()"
   ]
  },
  {
   "cell_type": "markdown",
   "metadata": {},
   "source": [
    "Combining motion detection with taking picture and sending message:"
   ]
  },
  {
   "cell_type": "code",
   "execution_count": null,
   "metadata": {},
   "outputs": [],
   "source": [
    "     #make picture with camera\n",
    "     cappicflname = \"/home/pi/movementpic.jpg\"\n",
    "     loop = True \n",
    "     while loop:\n",
    "        exists = os.path.isfile(cappicflname)\n",
    "        print(\"exists: %s loop: %s\" %(str(exists), str(loop)))\n",
    "        if exists:\n",
    "            os.system(\"rm %s\" %cappicflname)\n",
    "\n",
    "        else:\n",
    "            os.system(\"raspistill -o %s -q 10\" %cappicflname)\n",
    "            print(\"Picture taken: %s\"  %cappicflname)\n",
    "            loop = False \n",
    "\n",
    "     #send captured image\n",
    "     mailaddress = \"hansjoerg.stark@gmail.com\"\n",
    "     sendmail(cappicflname,mailaddress)\n"
   ]
  },
  {
   "cell_type": "markdown",
   "metadata": {},
   "source": [
    "Execute on Raspberry Zero: Open terminal and enter:"
   ]
  },
  {
   "cell_type": "code",
   "execution_count": null,
   "metadata": {},
   "outputs": [],
   "source": [
    "python3 cap_motion.py"
   ]
  },
  {
   "cell_type": "markdown",
   "metadata": {},
   "source": [
    "## Live Video Stream for surveillance"
   ]
  },
  {
   "cell_type": "markdown",
   "metadata": {},
   "source": [
    "There are many good resources - search for \"surveillance camera raspberry\"\n",
    "\n",
    "https://hackernoon.com/raspberrypi-home-surveillance-with-only-150-lines-of-python-code-2701bd0373c9\n",
    "<br>\n",
    "etc.\n",
    "    \n",
    "    "
   ]
  },
  {
   "cell_type": "code",
   "execution_count": null,
   "metadata": {},
   "outputs": [],
   "source": []
  },
  {
   "cell_type": "code",
   "execution_count": null,
   "metadata": {},
   "outputs": [],
   "source": []
  },
  {
   "cell_type": "code",
   "execution_count": null,
   "metadata": {},
   "outputs": [],
   "source": []
  },
  {
   "cell_type": "code",
   "execution_count": null,
   "metadata": {},
   "outputs": [],
   "source": []
  },
  {
   "cell_type": "markdown",
   "metadata": {},
   "source": [
    "Run the following code (either in a Python file or via the Python Console) for __recording a video__:"
   ]
  },
  {
   "cell_type": "code",
   "execution_count": null,
   "metadata": {},
   "outputs": [],
   "source": [
    "from io import BytesIO\n",
    "from time import sleep\n",
    "from picamera import PiCamera\n",
    "\n",
    "# Create an in-memory stream\n",
    "my_stream = BytesIO()\n",
    "camera = PiCamera()\n",
    "camera.start_preview()\n",
    "# Camera warm-up time\n",
    "sleep(2)\n",
    "camera.capture(my_stream, 'jpeg')"
   ]
  }
 ],
 "metadata": {
  "kernelspec": {
   "display_name": "Python 3",
   "language": "python",
   "name": "python3"
  },
  "language_info": {
   "codemirror_mode": {
    "name": "ipython",
    "version": 3
   },
   "file_extension": ".py",
   "mimetype": "text/x-python",
   "name": "python",
   "nbconvert_exporter": "python",
   "pygments_lexer": "ipython3",
   "version": "3.7.1"
  }
 },
 "nbformat": 4,
 "nbformat_minor": 2
}
